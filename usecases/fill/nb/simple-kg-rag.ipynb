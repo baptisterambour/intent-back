{
 "cells": [
  {
   "cell_type": "markdown",
   "id": "52197759-12a6-4b77-9136-46fa6b65e1fe",
   "metadata": {},
   "source": [
    "# A simple chatbot agent"
   ]
  },
  {
   "cell_type": "markdown",
   "id": "672e980c-3aa3-4c5b-be86-fdd8d99ae070",
   "metadata": {},
   "source": [
    "## Prepare the environment"
   ]
  },
  {
   "cell_type": "code",
   "execution_count": null,
   "id": "c9ff4e11-079c-4817-9bf7-642769b0e4b6",
   "metadata": {},
   "outputs": [],
   "source": [
    "import sys\n",
    "sys.path.append('../../..')\n",
    "\n",
    "from autogen import ConversableAgent, register_function\n",
    "\n",
    "# from inswitch.llm.model import get_openai_model_config\n",
    "from inswitch.agent.basic import get_chat_agent, get_fixed_reply_agent\n",
    "from inswitch.util import second_last_msg\n",
    "\n",
    "from rdflib import Graph, URIRef"
   ]
  },
  {
   "cell_type": "markdown",
   "id": "8a4410e2",
   "metadata": {},
   "source": [
    "## The functions to query the complete kg\n",
    "TODO: generalize it to work on given ttl files."
   ]
  },
  {
   "cell_type": "code",
   "execution_count": null,
   "id": "8ba94ea8",
   "metadata": {},
   "outputs": [],
   "source": [
    "kg = Graph()\n",
    "kg.parse(\"../data/anonimized_data_fill.ttl\")\n",
    "\n",
    "def query_kg(query:str)->str:\n",
    "    skg = kg.query(query)\n",
    "\n",
    "    result = \"\"\n",
    "    for s, p, o in skg:\n",
    "        # Use namespace_manager to abbreviate URIs\n",
    "        subject_prefix = kg.namespace_manager.qname(s)\n",
    "        predicate_prefix = kg.namespace_manager.qname(p)\n",
    "        object_prefix = kg.namespace_manager.qname(o) if isinstance(o, URIRef) else f'\"{o}\"'\n",
    "        \n",
    "        # Print in the desired format\n",
    "        result = result + f\"{subject_prefix} {predicate_prefix} {object_prefix}\\n\"\n",
    "    return result\n",
    "\n",
    "def get_sample_kg()->str:\n",
    "    return query_kg(\"\"\"\n",
    "        SELECT (SAMPLE(?subject) AS ?sampleSubject) ?predicate  (SAMPLE(?object) AS ?sampleObject)\n",
    "        WHERE {\n",
    "        ?subject ?predicate ?object .\n",
    "        }\n",
    "        GROUP BY ?predicate\n",
    "    \"\"\")\n",
    "\n",
    "def get_namespaces()->str:\n",
    "\n",
    "    return \"\"\"\n",
    "@prefix fill: <https://intendproject.eu/fill/>.\n",
    "@prefix intend: <https://intendproject.eu/schema/>.\n",
    "@prefix schema: <https://schema.org/>.\n",
    "@prefix rdf: <http://www.w3.org/1999/02/22-rdf-syntax-ns#>.\n",
    "    \"\"\"\n",
    "\n",
    "    # TODO: This does not work... Need to fix\n",
    "    # return \"\\n\".join(\n",
    "    #     f\"{prefix}: {namespace}\" \n",
    "    #     for prefix, namespace in kg.namespace_manager.namespaces()\n",
    "    #     if prefix in kg.namespace_manager.store.prefixes()\n",
    "    # )\n",
    "\n",
    "\n",
    "# print(get_sample_kg())\n",
    "# print(get_namespaces())"
   ]
  },
  {
   "cell_type": "code",
   "execution_count": null,
   "id": "0dd3e852",
   "metadata": {},
   "outputs": [],
   "source": []
  },
  {
   "cell_type": "markdown",
   "id": "7095ad68",
   "metadata": {},
   "source": [
    "## Here are the API invocation agents"
   ]
  },
  {
   "cell_type": "code",
   "execution_count": null,
   "id": "fabb733e",
   "metadata": {},
   "outputs": [],
   "source": [
    "rdf_tool_driver_system_message = '''\n",
    "You are a helpful assistant. From a user intent (provided in the context), you will\n",
    "try to get all the knowledges that may be relevant to this intent.\n",
    "You have access to a Knowledge Graph, and you can generate and execute sparql queries\n",
    "to obtain a subgraph from the knowledge graph, and that subgraph is all the knowledge\n",
    "that might be relevant to the intent.\n",
    "You may do it step by step, starting from listing all the service descriptions, \n",
    "and see which exact service the intent is about. From the intent, you\n",
    "can also know which active machine the user owns. Then, you can \n",
    "extract all the triples methods either the service or the active machine.\n",
    "Do not try to search keywords in service descriptions, but compare the description with the intent to decide\n",
    "which one is relevant.\n",
    "The SPARQL queries you generate must always return full tripes in the form of subject predict object.\n",
    "Do not forget the predict!\n",
    "'''\n",
    "\n",
    "rdf_tool_driver = get_chat_agent(\n",
    "    \"rdf_tool_driver\",\n",
    "    system_message = rdf_tool_driver_system_message\n",
    ")\n",
    "\n",
    "rdf_tool_executor = get_fixed_reply_agent(\n",
    "    \"rdf_tool_executor\",\n",
    "    reply = \"\"\n",
    ")\n",
    "\n",
    "register_function(\n",
    "    query_kg,\n",
    "    caller = rdf_tool_driver,\n",
    "    executor = rdf_tool_executor,\n",
    "    description = \"This is the function to query the knowledge graph. The input is a rdf query, \"\n",
    "        \"and the output is a list of triples as the query result.\"\n",
    "        \n",
    ")\n",
    "\n",
    "rdf_tool_executor.register_nested_chats(\n",
    "    [\n",
    "        {\n",
    "            \"recipient\": rdf_tool_driver,\n",
    "            \"max_turns\": 5,\n",
    "            \"summary_method\": second_last_msg\n",
    "        }\n",
    "    ],\n",
    "    trigger = lambda sender: sender not in [rdf_tool_driver]\n",
    ")\n",
    "\n"
   ]
  },
  {
   "cell_type": "markdown",
   "id": "900991d4-12d5-41d5-9d19-486ff5dd9386",
   "metadata": {},
   "source": [
    "## Here we go!\n",
    "A simple sequence: user_intent -> api_doc_provider -> nerv_tool_executor\n",
    "\n",
    "Current intent is hard coded."
   ]
  },
  {
   "cell_type": "code",
   "execution_count": null,
   "id": "042c02b5-36d3-4c6e-8526-51f4c102eb33",
   "metadata": {},
   "outputs": [],
   "source": [
    "user_intent = '''I am Customer1 and own Active_machine6. \n",
    "I want to add a new service to my machine to record all the alarms\n",
    "'''\n",
    "\n",
    "intent_provider = get_fixed_reply_agent(\n",
    "    'intent_provier',\n",
    "    reply = user_intent\n",
    ")\n",
    "\n",
    "moderator = get_fixed_reply_agent(\n",
    "    name=\"moderator\",\n",
    "    reply = \"\"\n",
    ")\n",
    "\n",
    "decision_chat_results = moderator.initiate_chats(\n",
    "    [\n",
    "        {\n",
    "            \"recipient\": intent_provider,\n",
    "            \"message\": \"what do you want?\",\n",
    "            \"max_turns\": 1,\n",
    "            \"summary_method\": \"last_msg\"\n",
    "        },\n",
    "        {\n",
    "            \"recipient\": rdf_tool_executor,\n",
    "            \"message\": f\"Sample triples in the kg: {get_sample_kg()}. Namespaces: {get_namespaces()}\",\n",
    "            \"max_turns\": 1,\n",
    "            \"summary_method\": \"last_msg\"\n",
    "        }\n",
    "    ]\n",
    ")\n",
    "\n"
   ]
  },
  {
   "cell_type": "markdown",
   "id": "7e66e5f0",
   "metadata": {},
   "source": [
    "## Next steps:\n",
    "\n",
    "1. Replace current api_doc_provider (a fixed_reply_agent) by a RAG assistant, that extracts from a complete API document the parts that are relevant to DNA and deployment.\n",
    "2. Add in the beginning of the sequence another agent (or agents) to extract the list of workloads. Eventually, the input intent should be like \"I want to be able to monitor the thermal stability of machine M0001\""
   ]
  }
 ],
 "metadata": {
  "kernelspec": {
   "display_name": "base",
   "language": "python",
   "name": "python3"
  },
  "language_info": {
   "codemirror_mode": {
    "name": "ipython",
    "version": 3
   },
   "file_extension": ".py",
   "mimetype": "text/x-python",
   "name": "python",
   "nbconvert_exporter": "python",
   "pygments_lexer": "ipython3",
   "version": "3.12.7"
  }
 },
 "nbformat": 4,
 "nbformat_minor": 5
}
