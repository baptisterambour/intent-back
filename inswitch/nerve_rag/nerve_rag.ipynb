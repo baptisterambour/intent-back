{
 "cells": [
  {
   "cell_type": "markdown",
   "metadata": {},
   "source": [
    "# Agent-based RAG system for Nerve API documentation"
   ]
  },
  {
   "cell_type": "markdown",
   "metadata": {},
   "source": [
    "## Imports"
   ]
  },
  {
   "cell_type": "code",
   "execution_count": null,
   "metadata": {},
   "outputs": [],
   "source": [
    "from autogen import ConversableAgent, register_function\n",
    "from autogen.agentchat.contrib.retrieve_assistant_agent import RetrieveAssistantAgent\n",
    "from autogen.agentchat.contrib.retrieve_user_proxy_agent import RetrieveUserProxyAgent\n",
    "from chromadb.utils import embedding_functions\n",
    "from autogen.agentchat.contrib.vectordb.base import Document, QueryResults, VectorDB, VectorDBFactory\n",
    "\n",
    "from typing import Callable, List, Tuple, Union\n",
    "import pprint\n",
    "import os\n",
    "import sys\n",
    "import chromadb\n",
    "\n",
    "# Add path\n",
    "sys.path.append('../..')\n",
    "\n",
    "from inswitch.llm.model import get_openai_model_config\n",
    "from inswitch.agent.basic import get_llm_agent\n",
    "from inswitch.agent.ragagent import RagAgent"
   ]
  },
  {
   "cell_type": "code",
   "execution_count": null,
   "metadata": {},
   "outputs": [],
   "source": [
    "# Configure embedding function with OpenAI embedding\n",
    "llm_config = get_openai_model_config()\n",
    "openai_embedding_function = embedding_functions.OpenAIEmbeddingFunction(api_key = llm_config[\"api_key\"])"
   ]
  },
  {
   "cell_type": "markdown",
   "metadata": {},
   "source": [
    "## Load all relevant Nerve API documents to be added to RAG"
   ]
  },
  {
   "cell_type": "code",
   "execution_count": null,
   "metadata": {},
   "outputs": [],
   "source": [
    "doc_1 = \"https://docs.nerve.cloud/developer_guide/dna/\"\n",
    "doc_2 = \"https://docs.nerve.cloud/developer_guide/networking/\"\n",
    "doc_3 = \"https://docs.nerve.cloud/developer_guide/codesys/\"\n",
    "doc_4 = \"https://docs.nerve.cloud/developer_guide/ms-api/api-pointers/\"\n",
    "doc_5 = \"https://docs.nerve.cloud/developer_guide/ms-api/api-examples/\""
   ]
  },
  {
   "cell_type": "markdown",
   "metadata": {},
   "source": [
    "## RAG-enhanced agent "
   ]
  },
  {
   "cell_type": "code",
   "execution_count": null,
   "metadata": {},
   "outputs": [],
   "source": [
    "ragproxyagent = RagAgent(\n",
    "    name=\"ragproxyagent\",\n",
    "    docs_path = [doc_1, doc_2, doc_3, doc_4, doc_5]\n",
    ")"
   ]
  },
  {
   "cell_type": "code",
   "execution_count": null,
   "metadata": {},
   "outputs": [],
   "source": [
    "assistant_message = \"You're a repeating chatbot. You will be provided with retrieved documents and you will repeat these as output. Please do NOT change the content and do NOT give explanations.\"\n",
    "\n",
    "# Create an instance of RetrieveAssistantAgent\n",
    "assistant = get_llm_agent(\"Assistant\", assistant_message)\n",
    "assistant.reset()"
   ]
  },
  {
   "cell_type": "code",
   "execution_count": null,
   "metadata": {},
   "outputs": [],
   "source": [
    "# Initiate chat: \n",
    "result = ragproxyagent.initiate_chat(assistant, message=ragproxyagent.message_generator, problem=\"I want to obtain API info for deploying docker workload with ID docker3.\")"
   ]
  },
  {
   "cell_type": "code",
   "execution_count": null,
   "metadata": {},
   "outputs": [],
   "source": [
    "results = ragproxyagent.retrieve_docs(problem = \"I want to obtain info for the workload with ID docker3 and version 3 and hash 5454854754kcnvcl43.\", n_results = 3)\n",
    "pprint.pp(ragproxyagent._results)"
   ]
  }
 ],
 "metadata": {
  "kernelspec": {
   "display_name": "autogen",
   "language": "python",
   "name": "python3"
  },
  "language_info": {
   "codemirror_mode": {
    "name": "ipython",
    "version": 3
   },
   "file_extension": ".py",
   "mimetype": "text/x-python",
   "name": "python",
   "nbconvert_exporter": "python",
   "pygments_lexer": "ipython3",
   "version": "3.10.15"
  }
 },
 "nbformat": 4,
 "nbformat_minor": 2
}
